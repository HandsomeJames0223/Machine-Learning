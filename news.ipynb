{
  "nbformat": 4,
  "nbformat_minor": 0,
  "metadata": {
    "colab": {
      "name": "news.ipynb",
      "provenance": [],
      "toc_visible": true,
      "mount_file_id": "1NbiqaVvTKEsubnpos4QflCKTMcVYT_oC",
      "authorship_tag": "ABX9TyP2CkhD/a2++dHr7gzfj8y2",
      "include_colab_link": true
    },
    "kernelspec": {
      "name": "python3",
      "display_name": "Python 3"
    }
  },
  "cells": [
    {
      "cell_type": "markdown",
      "metadata": {
        "id": "view-in-github",
        "colab_type": "text"
      },
      "source": [
        "<a href=\"https://colab.research.google.com/github/HandsomeJames0223/Naive-Bayes/blob/main/news.ipynb\" target=\"_parent\"><img src=\"https://colab.research.google.com/assets/colab-badge.svg\" alt=\"Open In Colab\"/></a>"
      ]
    },
    {
      "cell_type": "markdown",
      "metadata": {
        "id": "HNReLnrcrMbs"
      },
      "source": [
        "# 五種Naive Bayes\n",
        "https://scikit-learn.org/stable/modules/naive_bayes.html\n",
        "\n",
        "1. Gaussian Naive Bayes:\n",
        "    數值成常態分佈時，可以使用，鳶尾花可以使用此方法。\n",
        "    只有在特徵為連續時使用。\n",
        "2. Multinomial Naive Bayes\n",
        "3. Complement Naive Bayes\n",
        "4. Bernoulli Naive Bayes:\n",
        "    資料二極化\n",
        "    特化型的MultinominalNB\n",
        "5. Categorical Naive Bayes\n",
        "\n",
        "\n",
        "# 練習\n",
        "https://drive.google.com/drive/folders/1i2YRuH7eXlRNr4AjsRJqM5hb7cMsKx_m"
      ]
    },
    {
      "cell_type": "code",
      "metadata": {
        "id": "BgLkIy84rBhL"
      },
      "source": [
        "import zipfile\n",
        "import jieba\n",
        "from urllib.request import urlretrieve\n",
        "if not os.path.exists(\"dict.txt.big\"):\n",
        "    url = \"https://github.com/fxsjy/jieba/raw/master/extra_dict/dict.txt.big\"\n",
        "    urlretrieve(url, \"dict.txt.big\")\n",
        "jieba.set_dictionary(\"dict.txt.big\")\n",
        "path = \"drive/My Drive/學習/AI工程師班/chinese_news_trans.zip\"\n",
        "f = zipfile.ZipFile(path)\n",
        "f.extractall()\n",
        "path = \"drive/My Drive/學習/AI工程師班/chinese_news_test.zip\"\n",
        "f = zipfile.ZipFile(path)\n",
        "f.extractall()"
      ],
      "execution_count": null,
      "outputs": []
    },
    {
      "cell_type": "code",
      "metadata": {
        "id": "x9ohwaw60WtY"
      },
      "source": [
        "import os\n",
        "import glob\n",
        "import pandas as pd\n",
        "def read_data(base):\n",
        "    contents, targets = [], []\n",
        "    basedn = os.path.join(base, \"*\")\n",
        "    for dn in glob.glob(basedn):\n",
        "        upper = os.path.join(dn, \"*.TXT\")\n",
        "        lower = os.path.join(dn, \"*.txt\")\n",
        "        for fn in glob.glob(upper) + glob.glob(lower):\n",
        "            with open(fn, \"r\", encoding = \"utf-8\") as f:\n",
        "                contents.append(f.read())\n",
        "            target = os.path.split(dn)[-1]\n",
        "            targets.append(target)\n",
        "    df = pd.DataFrame({\n",
        "          \"content\":contents,\n",
        "          \"target\":targets\n",
        "      })\n",
        "    return df\n",
        "train_df = read_data(\"chinese_news_trans\")\n",
        "test_df = read_data(\"chinese_news_test\")"
      ],
      "execution_count": null,
      "outputs": []
    },
    {
      "cell_type": "code",
      "metadata": {
        "id": "Qd2fJbdA4aPm",
        "colab": {
          "base_uri": "https://localhost:8080/",
          "height": 402
        },
        "outputId": "be39a9d9-1296-4b9d-e389-3e3a56e325ab"
      },
      "source": [
        "train_df"
      ],
      "execution_count": null,
      "outputs": [
        {
          "output_type": "execute_result",
          "data": {
            "text/html": [
              "<div>\n",
              "<style scoped>\n",
              "    .dataframe tbody tr th:only-of-type {\n",
              "        vertical-align: middle;\n",
              "    }\n",
              "\n",
              "    .dataframe tbody tr th {\n",
              "        vertical-align: top;\n",
              "    }\n",
              "\n",
              "    .dataframe thead th {\n",
              "        text-align: right;\n",
              "    }\n",
              "</style>\n",
              "<table border=\"1\" class=\"dataframe\">\n",
              "  <thead>\n",
              "    <tr style=\"text-align: right;\">\n",
              "      <th></th>\n",
              "      <th>content</th>\n",
              "      <th>target</th>\n",
              "    </tr>\n",
              "  </thead>\n",
              "  <tbody>\n",
              "    <tr>\n",
              "      <th>0</th>\n",
              "      <td>《瞭望》週刊文章：一個全球性的環境問題——垃圾\\n新華社北京５月１２日...</td>\n",
              "      <td>環境</td>\n",
              "    </tr>\n",
              "    <tr>\n",
              "      <th>1</th>\n",
              "      <td>英國確定溫室效應政策\\n新華社倫敦５月２５日電為了對付由於溫室效應引起...</td>\n",
              "      <td>環境</td>\n",
              "    </tr>\n",
              "    <tr>\n",
              "      <th>2</th>\n",
              "      <td>【 日  期 】19960610\\n【 版  號 】10\\n【 標  題 】海南人的藍色樂章...</td>\n",
              "      <td>環境</td>\n",
              "    </tr>\n",
              "    <tr>\n",
              "      <th>3</th>\n",
              "      <td>經國務院批准我國長江中上游防護林體系建設工程全\\n面展開\\n    (...</td>\n",
              "      <td>環境</td>\n",
              "    </tr>\n",
              "    <tr>\n",
              "      <th>4</th>\n",
              "      <td>【 日  期 】19960105\\n【 版  號 】7\\n【 標  題 】科學家選出２０種最...</td>\n",
              "      <td>環境</td>\n",
              "    </tr>\n",
              "    <tr>\n",
              "      <th>...</th>\n",
              "      <td>...</td>\n",
              "      <td>...</td>\n",
              "    </tr>\n",
              "    <tr>\n",
              "      <th>2632</th>\n",
              "      <td>日月光華 -- Economics精華區文章閱讀\\n--------------------...</td>\n",
              "      <td>經濟</td>\n",
              "    </tr>\n",
              "    <tr>\n",
              "      <th>2633</th>\n",
              "      <td>日月光華 -- Economics精華區文章閱讀\\n--------------------...</td>\n",
              "      <td>經濟</td>\n",
              "    </tr>\n",
              "    <tr>\n",
              "      <th>2634</th>\n",
              "      <td>日月光華 -- Economics精華區文章閱讀\\n--------------------...</td>\n",
              "      <td>經濟</td>\n",
              "    </tr>\n",
              "    <tr>\n",
              "      <th>2635</th>\n",
              "      <td>日月光華 -- Economics精華區文章閱讀\\n--------------------...</td>\n",
              "      <td>經濟</td>\n",
              "    </tr>\n",
              "    <tr>\n",
              "      <th>2636</th>\n",
              "      <td>日月光華 -- Economics精華區文章閱讀\\n--------------------...</td>\n",
              "      <td>經濟</td>\n",
              "    </tr>\n",
              "  </tbody>\n",
              "</table>\n",
              "<p>2637 rows × 2 columns</p>\n",
              "</div>"
            ],
            "text/plain": [
              "                                                content target\n",
              "0                《瞭望》週刊文章：一個全球性的環境問題——垃圾\\n新華社北京５月１２日...     環境\n",
              "1                英國確定溫室效應政策\\n新華社倫敦５月２５日電為了對付由於溫室效應引起...     環境\n",
              "2     【 日  期 】19960610\\n【 版  號 】10\\n【 標  題 】海南人的藍色樂章...     環境\n",
              "3                經國務院批准我國長江中上游防護林體系建設工程全\\n面展開\\n    (...     環境\n",
              "4     【 日  期 】19960105\\n【 版  號 】7\\n【 標  題 】科學家選出２０種最...     環境\n",
              "...                                                 ...    ...\n",
              "2632  日月光華 -- Economics精華區文章閱讀\\n--------------------...     經濟\n",
              "2633  日月光華 -- Economics精華區文章閱讀\\n--------------------...     經濟\n",
              "2634  日月光華 -- Economics精華區文章閱讀\\n--------------------...     經濟\n",
              "2635  日月光華 -- Economics精華區文章閱讀\\n--------------------...     經濟\n",
              "2636  日月光華 -- Economics精華區文章閱讀\\n--------------------...     經濟\n",
              "\n",
              "[2637 rows x 2 columns]"
            ]
          },
          "metadata": {
            "tags": []
          },
          "execution_count": 62
        }
      ]
    },
    {
      "cell_type": "code",
      "metadata": {
        "id": "tZI7f4jH5HS2",
        "colab": {
          "base_uri": "https://localhost:8080/"
        },
        "outputId": "b048ff3d-f69c-4639-9b9c-4216f4ceb866"
      },
      "source": [
        "# Series.replace({\"環境\":0})\n",
        "# unique/value_counts 變成串列型態\n",
        "writers = train_df[\"target\"].unique()\n",
        "# python的for in 字典的縮減方法\n",
        "trans = {w:i for i, w in enumerate(writers)}\n",
        "trans_r = {i:w for i, w in enumerate(writers)}\n",
        "y_train = train_df[\"target\"].replace(trans)\n",
        "y_test = test_df[\"target\"].replace(trans)\n",
        "y_test"
      ],
      "execution_count": null,
      "outputs": [
        {
          "output_type": "execute_result",
          "data": {
            "text/plain": [
              "0      0\n",
              "1      0\n",
              "2      0\n",
              "3      0\n",
              "4      0\n",
              "      ..\n",
              "96     9\n",
              "97     9\n",
              "98     9\n",
              "99     9\n",
              "100    9\n",
              "Name: target, Length: 101, dtype: int64"
            ]
          },
          "metadata": {
            "tags": []
          },
          "execution_count": 63
        }
      ]
    },
    {
      "cell_type": "code",
      "metadata": {
        "id": "PI6Mg8XK6y3g",
        "colab": {
          "base_uri": "https://localhost:8080/",
          "height": 238
        },
        "outputId": "dbbb3915-bc94-4d6e-87ab-a30265b514e1"
      },
      "source": [
        "p = train_df[\"content\"][0]\n",
        "\" \".join(jieba.cut(p))"
      ],
      "execution_count": null,
      "outputs": [
        {
          "output_type": "stream",
          "text": [
            "Building prefix dict from /content/dict.txt.big ...\n",
            "Loading model from cache /tmp/jieba.u501edca284da514cb68b53a20324f4e3.cache\n",
            "Loading model cost 1.368 seconds.\n",
            "Prefix dict has been built successfully.\n"
          ],
          "name": "stderr"
        },
        {
          "output_type": "execute_result",
          "data": {
            "application/vnd.google.colaboratory.intrinsic+json": {
              "type": "string"
            },
            "text/plain": [
              "'                      《 瞭望 》 週刊 文章 ： 一個 全球性 的 環境 問題 — — 垃圾 \\n 新華社 北京 ５ 月 １ ２ 日電 ５ 月 １ ４ 日 出版 的 第 ２ ０ 期 \\n                           《 瞭望 》 週刊 將 發表 署名文章 《 一個 全球性 的 環境 問題 》 \\n                           。 文章 摘要 如下 ： \\n                                   目前 ， 世界 各國 拋棄 的 垃圾 越來越 多 ， 也 越來越 難處 \\n                           理 。 據估計 ， 全球 每年 新增 的 垃圾 有 １ ０ ０ 億噸 左右 ， 人 \\n                           均 ２ 噸 。 \\n                                   世界 上 產生 垃圾 最多 的 是 美國 、 聯邦德國 、 英國 和 日 \\n                           本 。 僅 美國 ， 每年 產生 工業 垃圾 ２ ０ 億噸 以上 ， 城市居民 \\n                           垃圾 ２ · ２ 億噸 ， 丟棄 的 舊 汽車 １ ０ ０ ０ 多萬輛 ， 廢輪胎 \\n                           上 億隻 ， 全國 垃圾 佔地面積 １ · １ ８ 萬平方公里 。 華盛頓 \\n                           曾 有 一家 環保 機構 驚呼 ： 到 ９ ０ 年代 末 ， 美國 將有 一半 以 \\n                           上 的 城市 無處 傾倒垃圾 ！ \\n                                   有人 形象 地說 ， 垃圾 “ 無孔不入 ” 。 就連 被 認為 全球 \\n                           淨土 的 珠穆朗瑪 峰 、 南極 ， 都 有 垃圾 “ 光顧 ” 。 近年來 ， \\n                           垃圾 又 在 太空 “ 安家落戶 ” 。 自 １ ９ ５ ７ 年 蘇聯 發射 第一 \\n                           顆 人造衛星 以來 ， 人類 在 地球 周圍 的 空間 留下 了 大量 的 太 \\n                           空 廢物 。 據 觀測 ， 在 太空 軌道 上 有 ７ ２ ０ ０ 個 １ ０ 釐米 大 \\n                           小 以上 的 廢物 碎塊 在 運轉 ， 這些 高速運轉 的 太空 垃圾 ， 成 \\n                           為 危險 的 “ 飄遊 炸彈 ” 。 \\n                                   垃圾 不僅 有礙觀瞻 ， 佔用 大量 土地 ， 更 重要 的 是 汙染 \\n                           環境 ， 危害 人們 健康 。 \\n                                   地球 上 的 危險廢物 正在 以 每年 ５ 億噸 的 速度 增加 。 危 \\n                           險 廢物 主要 產於 西方 工業化 國家 ， 其 產量 佔 全世界 總產量 \\n                           的 百分之九十 。 堆積如山 的 危險 廢料 ， 日益 強烈 的 環保 呼 \\n                           聲 ， 十分 高昂 的 處理 代價 以及 有限 的 處理 能力 ， 使歐 美國 \\n                           家 紛紛 向外 謀求 出路 。 目前 ， 每 ５ 分鐘 就 有 一船 危險廢物 \\n                           跨越國界 。 第三世界 國家 是 危險廢物 跨境 活動 的 最大 受害 \\n                           者 。 １ ９ ８ ６ 年 — １ ９ ８ ８ 年間 ， 工業化 國家 往 第三世界 \\n                           國家 輸出 的 危險廢物 達 ６ ０ ０ 萬噸 之多 。 第三世界 國家 已 \\n                           成為 西方 工業化 國家 危險廢物 的 堆放 地 。 近年來 ， 越來越 \\n                           多 的 第三世界 國家 認識 到 了 這一 嚴重 的 危害性 ， 紛紛 起來 \\n                           抵制 工業化 國家 傾倒 危險廢物 ， 要求 建立 危險廢物 跨境 國 \\n                           際 法規 。 這一 問題 引起 了 聯合國環境規劃署 的 重視 ， 目前 \\n                           正在 組織 起草 兩個 國際公約 ， 以 徹底 制止 向 第三世界 國家 \\n                           傾倒 有毒 廢物 。 \\n                                   面對 垃圾 的 困擾 ， 人們 越來越 意識 到 ， 最好 的 辦法 就 \\n                           是 進行 有效 的 處理 和 利用 。 實際上 ， 垃圾 的 處理 和 利用 有 \\n                           悠久 的 歷史 。 早 在 公元前 ３ ０ ０ ０ 年 — １ ０ ０ ０ 年 古希臘 \\n                           米諾斯 文明 時期 ， 克里特島 的 首府 諾薩斯 即 有將 垃圾 覆土 \\n                           埋入 大坑 的 處理 。 中國 、 印度 等 亞洲 國家 ， 自古以來 就 有 \\n                           利用 糞便 和 垃圾 作 堆肥 的 處置 方法 。 ７ ０ 年代 以來 ， 人們 \\n                           提出 了 “ 資源 循環 利用 ” 的 觀點 。 此後 在 世界 許多 國家 ， \\n                           垃圾 問題 引起 了 政府部門 的 重視 ， 有關 垃圾 的 專門 管理 機 \\n                           構和 科學研究 機構 及其 制定 的 法規 也 應運而生 。 目前 ， 垃 \\n                           圾 的 主要 處置 方法 有 ５ 種 ： 露天 堆存 、 圍隔 堆存 、 填埋 、 \\n                           焚化 和 生物降解 。 \\n                                   就 世界 而言 ， 垃圾 問題 在 今後 相當 長 的 時期 內 仍然 是 \\n                           困擾 人類 的 重大 社會 環境 問題 。 雖然 工業化 國家 的 垃圾 部 \\n                           分 得到 了 處理 ， 但是 問題 遠遠 沒有 解決 。 即使 在 處理過程 \\n                           中 ， 有些 處理方式 還會 造成 二次 汙染 。 據 歐共體 委員會 統 \\n                           計 ， １ ２ 個 成員國 的 ５ ２ ０ 座 垃圾 焚化 廠 每年 排放 塵埃 ２ \\n                           · ８ 萬噸 、 鉛 ５ ７ ０ 噸 、 氯化氫 １ ４ ４ 噸 、 汞 ６ ８ 噸 、 鎘 \\n                           ３ １ 噸 ， 嚴重 汙染 了 生態環境 。 第三世界 國家 目前 尚無 足 \\n                           夠的 經濟 能力 和 技術水平 來 大量 處理 和 利用 垃圾 。 一些 有 \\n                           識之士 呼籲 ， 世界 各國 政府 和 人民 必須 共同努力 ， 一道 來 \\n                           解決 這個 可能 遺患 後人 的 全球 問題 。 （ 完 ） \\n \\n'"
            ]
          },
          "metadata": {
            "tags": []
          },
          "execution_count": 64
        }
      ]
    },
    {
      "cell_type": "code",
      "metadata": {
        "id": "T8SweOaG7UO5",
        "colab": {
          "base_uri": "https://localhost:8080/"
        },
        "outputId": "0c8cae07-1eec-4e2b-b16e-902e1a920278"
      },
      "source": [
        "def newscut(p):\n",
        "    return \" \".join(jieba.cut(p))\n",
        "x_train = train_df[\"content\"].apply(newscut)\n",
        "x_test = test_df[\"content\"].apply(newscut)\n",
        "x_test"
      ],
      "execution_count": null,
      "outputs": [
        {
          "output_type": "execute_result",
          "data": {
            "text/plain": [
              "0      日月 光華   --   FDU _ E . S . E . 精華區 文章 閱讀 \\n --...\n",
              "1      日月 光華   --   FDU _ E . S . E . 精華區 文章 閱讀 \\n --...\n",
              "2      日月 光華   --   FDU _ E . S . E . 精華區 文章 閱讀 \\n --...\n",
              "3      日月 光華   --   FDU _ E . S . E . 精華區 文章 閱讀 \\n --...\n",
              "4      日月 光華   --   FDU _ E . S . E . 精華區 文章 閱讀 \\n --...\n",
              "                             ...                        \n",
              "96     日月 光華   --   Economics 精華區 文章 閱讀 \\n ----------...\n",
              "97     日月 光華   --   Economics 精華區 文章 閱讀 \\n ----------...\n",
              "98     日月 光華   --   Economics 精華區 文章 閱讀 \\n ----------...\n",
              "99     日月 光華   --   Economics 精華區 文章 閱讀 \\n ----------...\n",
              "100    日月 光華   --   Economics 精華區 文章 閱讀 \\n ----------...\n",
              "Name: content, Length: 101, dtype: object"
            ]
          },
          "metadata": {
            "tags": []
          },
          "execution_count": 65
        }
      ]
    },
    {
      "cell_type": "code",
      "metadata": {
        "id": "DYYy0YyK8Ag3"
      },
      "source": [
        "from sklearn.feature_extraction.text import CountVectorizer\n",
        "vec = CountVectorizer()\n",
        "# fit使用完之後欄位會儲存在vocabulary裡面，所以x_test_count的欄位會從之前x_train_count得出的欄位做參照\n",
        "x_train_count = vec.fit_transform(x_train)\n",
        "x_test_count = vec.transform(x_test)"
      ],
      "execution_count": null,
      "outputs": []
    },
    {
      "cell_type": "code",
      "metadata": {
        "id": "duumwL_u8H36",
        "colab": {
          "base_uri": "https://localhost:8080/"
        },
        "outputId": "8ab113f9-71dc-453e-c653-5b5935e33645"
      },
      "source": [
        "from sklearn.naive_bayes import MultinomialNB\n",
        "clf = MultinomialNB(alpha = 0.01)\n",
        "clf.fit(x_train_count, y_train)"
      ],
      "execution_count": null,
      "outputs": [
        {
          "output_type": "execute_result",
          "data": {
            "text/plain": [
              "MultinomialNB(alpha=0.01, class_prior=None, fit_prior=True)"
            ]
          },
          "metadata": {
            "tags": []
          },
          "execution_count": 67
        }
      ]
    },
    {
      "cell_type": "code",
      "metadata": {
        "id": "J7ryrsL88L0F",
        "colab": {
          "base_uri": "https://localhost:8080/"
        },
        "outputId": "86fa58f0-c703-4be4-e120-9a993cbabcce"
      },
      "source": [
        "from sklearn.metrics import accuracy_score\n",
        "pre = clf.predict(x_test_count)\n",
        "accuracy_score(pre, y_test)"
      ],
      "execution_count": null,
      "outputs": [
        {
          "output_type": "execute_result",
          "data": {
            "text/plain": [
              "1.0"
            ]
          },
          "metadata": {
            "tags": []
          },
          "execution_count": 68
        }
      ]
    },
    {
      "cell_type": "code",
      "metadata": {
        "id": "BfLdJKRj8Y_e",
        "colab": {
          "base_uri": "https://localhost:8080/",
          "height": 343
        },
        "outputId": "8782bb8f-a82a-4106-8d27-f7a2cdb86ff2"
      },
      "source": [
        "from sklearn.metrics import confusion_matrix\n",
        "mat = confusion_matrix(y_test, pre)\n",
        "pd.DataFrame(mat,\n",
        "      index=[name + \"(原本)\" for name in writers],\n",
        "      columns=[name + \"(預測)\" for name in writers],)"
      ],
      "execution_count": null,
      "outputs": [
        {
          "output_type": "execute_result",
          "data": {
            "text/html": [
              "<div>\n",
              "<style scoped>\n",
              "    .dataframe tbody tr th:only-of-type {\n",
              "        vertical-align: middle;\n",
              "    }\n",
              "\n",
              "    .dataframe tbody tr th {\n",
              "        vertical-align: top;\n",
              "    }\n",
              "\n",
              "    .dataframe thead th {\n",
              "        text-align: right;\n",
              "    }\n",
              "</style>\n",
              "<table border=\"1\" class=\"dataframe\">\n",
              "  <thead>\n",
              "    <tr style=\"text-align: right;\">\n",
              "      <th></th>\n",
              "      <th>環境(預測)</th>\n",
              "      <th>體育(預測)</th>\n",
              "      <th>交通(預測)</th>\n",
              "      <th>醫藥(預測)</th>\n",
              "      <th>軍事(預測)</th>\n",
              "      <th>藝術(預測)</th>\n",
              "      <th>計算機(預測)</th>\n",
              "      <th>教育(預測)</th>\n",
              "      <th>政治(預測)</th>\n",
              "      <th>經濟(預測)</th>\n",
              "    </tr>\n",
              "  </thead>\n",
              "  <tbody>\n",
              "    <tr>\n",
              "      <th>環境(原本)</th>\n",
              "      <td>10</td>\n",
              "      <td>0</td>\n",
              "      <td>0</td>\n",
              "      <td>0</td>\n",
              "      <td>0</td>\n",
              "      <td>0</td>\n",
              "      <td>0</td>\n",
              "      <td>0</td>\n",
              "      <td>0</td>\n",
              "      <td>0</td>\n",
              "    </tr>\n",
              "    <tr>\n",
              "      <th>體育(原本)</th>\n",
              "      <td>0</td>\n",
              "      <td>10</td>\n",
              "      <td>0</td>\n",
              "      <td>0</td>\n",
              "      <td>0</td>\n",
              "      <td>0</td>\n",
              "      <td>0</td>\n",
              "      <td>0</td>\n",
              "      <td>0</td>\n",
              "      <td>0</td>\n",
              "    </tr>\n",
              "    <tr>\n",
              "      <th>交通(原本)</th>\n",
              "      <td>0</td>\n",
              "      <td>0</td>\n",
              "      <td>10</td>\n",
              "      <td>0</td>\n",
              "      <td>0</td>\n",
              "      <td>0</td>\n",
              "      <td>0</td>\n",
              "      <td>0</td>\n",
              "      <td>0</td>\n",
              "      <td>0</td>\n",
              "    </tr>\n",
              "    <tr>\n",
              "      <th>醫藥(原本)</th>\n",
              "      <td>0</td>\n",
              "      <td>0</td>\n",
              "      <td>0</td>\n",
              "      <td>10</td>\n",
              "      <td>0</td>\n",
              "      <td>0</td>\n",
              "      <td>0</td>\n",
              "      <td>0</td>\n",
              "      <td>0</td>\n",
              "      <td>0</td>\n",
              "    </tr>\n",
              "    <tr>\n",
              "      <th>軍事(原本)</th>\n",
              "      <td>0</td>\n",
              "      <td>0</td>\n",
              "      <td>0</td>\n",
              "      <td>0</td>\n",
              "      <td>10</td>\n",
              "      <td>0</td>\n",
              "      <td>0</td>\n",
              "      <td>0</td>\n",
              "      <td>0</td>\n",
              "      <td>0</td>\n",
              "    </tr>\n",
              "    <tr>\n",
              "      <th>藝術(原本)</th>\n",
              "      <td>0</td>\n",
              "      <td>0</td>\n",
              "      <td>0</td>\n",
              "      <td>0</td>\n",
              "      <td>0</td>\n",
              "      <td>10</td>\n",
              "      <td>0</td>\n",
              "      <td>0</td>\n",
              "      <td>0</td>\n",
              "      <td>0</td>\n",
              "    </tr>\n",
              "    <tr>\n",
              "      <th>計算機(原本)</th>\n",
              "      <td>0</td>\n",
              "      <td>0</td>\n",
              "      <td>0</td>\n",
              "      <td>0</td>\n",
              "      <td>0</td>\n",
              "      <td>0</td>\n",
              "      <td>10</td>\n",
              "      <td>0</td>\n",
              "      <td>0</td>\n",
              "      <td>0</td>\n",
              "    </tr>\n",
              "    <tr>\n",
              "      <th>教育(原本)</th>\n",
              "      <td>0</td>\n",
              "      <td>0</td>\n",
              "      <td>0</td>\n",
              "      <td>0</td>\n",
              "      <td>0</td>\n",
              "      <td>0</td>\n",
              "      <td>0</td>\n",
              "      <td>10</td>\n",
              "      <td>0</td>\n",
              "      <td>0</td>\n",
              "    </tr>\n",
              "    <tr>\n",
              "      <th>政治(原本)</th>\n",
              "      <td>0</td>\n",
              "      <td>0</td>\n",
              "      <td>0</td>\n",
              "      <td>0</td>\n",
              "      <td>0</td>\n",
              "      <td>0</td>\n",
              "      <td>0</td>\n",
              "      <td>0</td>\n",
              "      <td>11</td>\n",
              "      <td>0</td>\n",
              "    </tr>\n",
              "    <tr>\n",
              "      <th>經濟(原本)</th>\n",
              "      <td>0</td>\n",
              "      <td>0</td>\n",
              "      <td>0</td>\n",
              "      <td>0</td>\n",
              "      <td>0</td>\n",
              "      <td>0</td>\n",
              "      <td>0</td>\n",
              "      <td>0</td>\n",
              "      <td>0</td>\n",
              "      <td>10</td>\n",
              "    </tr>\n",
              "  </tbody>\n",
              "</table>\n",
              "</div>"
            ],
            "text/plain": [
              "         環境(預測)  體育(預測)  交通(預測)  醫藥(預測)  ...  計算機(預測)  教育(預測)  政治(預測)  經濟(預測)\n",
              "環境(原本)       10       0       0       0  ...        0       0       0       0\n",
              "體育(原本)        0      10       0       0  ...        0       0       0       0\n",
              "交通(原本)        0       0      10       0  ...        0       0       0       0\n",
              "醫藥(原本)        0       0       0      10  ...        0       0       0       0\n",
              "軍事(原本)        0       0       0       0  ...        0       0       0       0\n",
              "藝術(原本)        0       0       0       0  ...        0       0       0       0\n",
              "計算機(原本)       0       0       0       0  ...       10       0       0       0\n",
              "教育(原本)        0       0       0       0  ...        0      10       0       0\n",
              "政治(原本)        0       0       0       0  ...        0       0      11       0\n",
              "經濟(原本)        0       0       0       0  ...        0       0       0      10\n",
              "\n",
              "[10 rows x 10 columns]"
            ]
          },
          "metadata": {
            "tags": []
          },
          "execution_count": 69
        }
      ]
    },
    {
      "cell_type": "code",
      "metadata": {
        "id": "vDgfLbgC8el4",
        "colab": {
          "base_uri": "https://localhost:8080/"
        },
        "outputId": "a3526755-76e6-4c7f-998e-f58a59a17d71"
      },
      "source": [
        "\n",
        "p = input(\"輸入一則新聞:\")\n",
        "x_predict = vec.transform([newscut(p)])\n",
        "proba = clf.predict_proba(x_predict)[0]\n",
        "for w, p in zip(writers, proba):\n",
        "    print(w, \":\", round(p, 4))"
      ],
      "execution_count": null,
      "outputs": [
        {
          "output_type": "stream",
          "text": [
            "輸入一則新聞:美股大漲，加上新台幣強升，激勵台股昨（6）日勁揚百點，一舉突破月線、季線、及12,700點等三大關卡。市場專家指出，新台幣強勢，熱錢可望持續進駐，帶動後市台股行情正向發展，可注意上市櫃公司陸續公布的9月營收及第4季展望。   美股主要指數5日收紅，那斯達克指數大漲2.3%，費半指數更勁揚3.3%，激勵台股昨日開高走高，加上新台幣兌美元匯率升破29元，為逾九年新高，激勵加權指數終場大漲155點、收12,704點，上市櫃成交量擴大到2,072億元，其中上市為1,658億元。  三大法人昨日同步站在買方，合計買超112億元。其中，外資買超93.7億元，為連三買；投信應付贖回的賣壓大幅減輕，最近轉賣為買，昨日買超4億元；自營商買超14.3億元，為連五買。  台股昨日強漲，台積電（2330）居功厥偉。由於台積電下周四（15日）將舉行法說會，法人看好後市，外資昨日買超台積電1.2萬張，為9月16日買超2.2萬張以來最大單日買超，激勵台積電昨日漲7元、收439.5元；外資這波已六連買台積電，累積買超達2.6萬張。  此外，由於市場資金重回高價股，帶動股后矽力-KY表現出色，連續兩日收漲停，昨日漲185元、收2,060元，為7月7日以來再度站上2,000元，逼近歷史高價2,065元。矽力-KY的8月營收創新高，法人看好9月及第4季營收。  其他高價股也表現突出，尤其是IC設計族群，市場預期9月營收仍可望交出佳績。如信驊昨日大漲5.8%、收1,275元，已連續兩天漲幅都超過5%；譜瑞- KY漲3.7%、收1,120元；昇佳漲6.7%、收859元。  昨日十大高價股中，只有兩檔下跌。其中，股王大立光9月營收小增，然不如外界預期，外資據此降調目標價，衝擊大立光昨日帶量下跌75元或2.2%、收3,220元，連二黑；祥碩昨日跌2.6%、收1,470元。  市場專家指出，企業陸續公布9月營收，下周則是台積電法說及現金股利入帳，可留意財報及第4季展望出色的個股。\n",
            "環境 : 0.0\n",
            "體育 : 0.0\n",
            "交通 : 0.0\n",
            "醫藥 : 0.0\n",
            "軍事 : 0.0\n",
            "藝術 : 0.0\n",
            "計算機 : 0.0\n",
            "教育 : 0.0\n",
            "政治 : 0.0\n",
            "經濟 : 1.0\n"
          ],
          "name": "stdout"
        }
      ]
    }
  ]
}